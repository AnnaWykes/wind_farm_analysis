{
 "cells": [
  {
   "cell_type": "code",
   "execution_count": 0,
   "metadata": {
    "application/vnd.databricks.v1+cell": {
     "cellMetadata": {
      "byteLimit": 2048000,
      "rowLimit": 10000
     },
     "inputWidgets": {},
     "nuid": "087d18f3-51a1-4505-877d-2489f8eefa2b",
     "showTitle": false,
     "tableResultSettingsMap": {},
     "title": ""
    }
   },
   "outputs": [],
   "source": [
    "from datetime import datetime, timedelta\n",
    "\n",
    "# Create widgets for timestamp min and max\n",
    "dbutils.widgets.text(\"timestamp_min\", (datetime.now() - timedelta(days=2)).strftime(\"%Y-%m-%d\"), \"Timestamp Min\")\n",
    "dbutils.widgets.text(\"timestamp_max\", datetime.now().strftime(\"%Y-%m-%d\"), \"Timestamp Max\")\n",
    "\n",
    "timestamp_min = dbutils.widgets.get(\"timestamp_min\")\n",
    "timestamp_max = dbutils.widgets.get(\"timestamp_max\")"
   ]
  },
  {
   "cell_type": "code",
   "execution_count": 0,
   "metadata": {
    "application/vnd.databricks.v1+cell": {
     "cellMetadata": {
      "byteLimit": 2048000,
      "rowLimit": 10000
     },
     "inputWidgets": {},
     "nuid": "45302010-01c6-4cbc-ada3-2be6df6c6ff8",
     "showTitle": false,
     "tableResultSettingsMap": {},
     "title": ""
    }
   },
   "outputs": [
    {
     "output_type": "display_data",
     "data": {
      "text/html": [
       "<style scoped>\n",
       "  .table-result-container {\n",
       "    max-height: 300px;\n",
       "    overflow: auto;\n",
       "  }\n",
       "  table, th, td {\n",
       "    border: 1px solid black;\n",
       "    border-collapse: collapse;\n",
       "  }\n",
       "  th, td {\n",
       "    padding: 5px;\n",
       "  }\n",
       "  th {\n",
       "    text-align: left;\n",
       "  }\n",
       "</style><div class='table-result-container'><table class='table-result'><thead style='background-color: white'><tr><th>timestamp</th><th>turbine_id</th><th>wind_speed</th><th>wind_direction</th><th>power_output</th></tr></thead><tbody><tr><td>2022-03-31T23:00:00Z</td><td>1</td><td>13.7</td><td>51</td><td>3.7</td></tr><tr><td>2022-03-31T23:00:00Z</td><td>2</td><td>10.3</td><td>244</td><td>2.7</td></tr><tr><td>2022-03-31T23:00:00Z</td><td>3</td><td>10.1</td><td>112</td><td>2.0</td></tr><tr><td>2022-03-31T23:00:00Z</td><td>4</td><td>10.1</td><td>43</td><td>2.7</td></tr><tr><td>2022-03-31T23:00:00Z</td><td>5</td><td>13.5</td><td>55</td><td>1.9</td></tr><tr><td>2022-03-31T23:00:00Z</td><td>6</td><td>9.9</td><td>37</td><td>3.0</td></tr><tr><td>2022-03-31T23:00:00Z</td><td>7</td><td>11.1</td><td>225</td><td>2.5</td></tr><tr><td>2022-03-31T23:00:00Z</td><td>8</td><td>14.3</td><td>21</td><td>3.9</td></tr><tr><td>2022-03-31T23:00:00Z</td><td>9</td><td>15.0</td><td>102</td><td>3.1</td></tr><tr><td>2022-03-31T23:00:00Z</td><td>10</td><td>10.1</td><td>19</td><td>2.7</td></tr><tr><td>2022-03-31T23:00:00Z</td><td>11</td><td>13.3</td><td>232</td><td>3.5</td></tr><tr><td>2022-03-31T23:00:00Z</td><td>12</td><td>9.5</td><td>189</td><td>3.2</td></tr><tr><td>2022-03-31T23:00:00Z</td><td>13</td><td>12.8</td><td>302</td><td>4.5</td></tr><tr><td>2022-03-31T23:00:00Z</td><td>14</td><td>14.8</td><td>286</td><td>3.2</td></tr><tr><td>2022-03-31T23:00:00Z</td><td>15</td><td>12.0</td><td>56</td><td>2.3</td></tr></tbody></table></div>"
      ]
     },
     "metadata": {
      "application/vnd.databricks.v1+output": {
       "addedWidgets": {},
       "aggData": [],
       "aggError": "",
       "aggOverflow": false,
       "aggSchema": [],
       "aggSeriesLimitReached": false,
       "aggType": "",
       "arguments": {},
       "columnCustomDisplayInfos": {},
       "data": [
        [
         "2022-03-31T23:00:00Z",
         1,
         13.7,
         51,
         3.7
        ],
        [
         "2022-03-31T23:00:00Z",
         2,
         10.3,
         244,
         2.7
        ],
        [
         "2022-03-31T23:00:00Z",
         3,
         10.1,
         112,
         2.0
        ],
        [
         "2022-03-31T23:00:00Z",
         4,
         10.1,
         43,
         2.7
        ],
        [
         "2022-03-31T23:00:00Z",
         5,
         13.5,
         55,
         1.9
        ],
        [
         "2022-03-31T23:00:00Z",
         6,
         9.9,
         37,
         3.0
        ],
        [
         "2022-03-31T23:00:00Z",
         7,
         11.1,
         225,
         2.5
        ],
        [
         "2022-03-31T23:00:00Z",
         8,
         14.3,
         21,
         3.9
        ],
        [
         "2022-03-31T23:00:00Z",
         9,
         15.0,
         102,
         3.1
        ],
        [
         "2022-03-31T23:00:00Z",
         10,
         10.1,
         19,
         2.7
        ],
        [
         "2022-03-31T23:00:00Z",
         11,
         13.3,
         232,
         3.5
        ],
        [
         "2022-03-31T23:00:00Z",
         12,
         9.5,
         189,
         3.2
        ],
        [
         "2022-03-31T23:00:00Z",
         13,
         12.8,
         302,
         4.5
        ],
        [
         "2022-03-31T23:00:00Z",
         14,
         14.8,
         286,
         3.2
        ],
        [
         "2022-03-31T23:00:00Z",
         15,
         12.0,
         56,
         2.3
        ]
       ],
       "datasetInfos": [],
       "dbfsResultPath": null,
       "isJsonSchema": true,
       "metadata": {},
       "overflow": false,
       "plotOptions": {
        "customPlotOptions": {},
        "displayType": "table",
        "pivotAggregation": null,
        "pivotColumns": null,
        "xColumns": null,
        "yColumns": null
       },
       "removedWidgets": [],
       "schema": [
        {
         "metadata": "{}",
         "name": "timestamp",
         "type": "\"timestamp\""
        },
        {
         "metadata": "{}",
         "name": "turbine_id",
         "type": "\"integer\""
        },
        {
         "metadata": "{}",
         "name": "wind_speed",
         "type": "\"double\""
        },
        {
         "metadata": "{}",
         "name": "wind_direction",
         "type": "\"integer\""
        },
        {
         "metadata": "{}",
         "name": "power_output",
         "type": "\"double\""
        }
       ],
       "type": "table"
      }
     },
     "output_type": "display_data"
    }
   ],
   "source": [
    "from pyspark.sql.window import Window\n",
    "from pyspark.sql.functions import desc, row_number, col, avg, stddev, min, max\n",
    "\n",
    "transformed_data_all_df = spark.read.table(\"wind_farm.default.transformed_data\").where(f\"timestamp >= '{timestamp_min}' AND timestamp <= '{timestamp_max}'\")\n",
    "window_spec = Window.partitionBy(\"turbine_id\").orderBy(desc(\"timestamp\"))\n",
    "\n",
    "transformed_data_latest_df = transformed_data_all_df.withColumn(\"row_number\", row_number().over(window_spec)).filter(col(\"row_number\") == 1).drop(\"row_number\")\n",
    "\n",
    "display(transformed_data_latest_df)\n",
    "\n"
   ]
  },
  {
   "cell_type": "code",
   "execution_count": 0,
   "metadata": {
    "application/vnd.databricks.v1+cell": {
     "cellMetadata": {
      "byteLimit": 2048000,
      "rowLimit": 10000
     },
     "inputWidgets": {},
     "nuid": "05d9d190-1290-4fc7-9569-17ec55828cf2",
     "showTitle": false,
     "tableResultSettingsMap": {},
     "title": ""
    }
   },
   "outputs": [],
   "source": [
    "# Calculate min, max, and average power output\n",
    "aggregated_df = transformed_data_all_df.groupBy(\"turbine_id\").agg(\n",
    "    min(\"power_output\").alias(\"min_power_output\"),\n",
    "    max(\"power_output\").alias(\"max_power_output\"),\n",
    "    avg(\"power_output\").alias(\"avg_power_output\")\n",
    ")\n"
   ]
  },
  {
   "cell_type": "code",
   "execution_count": 0,
   "metadata": {
    "application/vnd.databricks.v1+cell": {
     "cellMetadata": {
      "byteLimit": 2048000,
      "rowLimit": 10000
     },
     "inputWidgets": {},
     "nuid": "3353343d-3482-4359-8ce5-be9dfe20817f",
     "showTitle": false,
     "tableResultSettingsMap": {},
     "title": ""
    }
   },
   "outputs": [],
   "source": [
    "\n",
    "# Calculate mean and standard deviation for anomaly detection\n",
    "stats_df = transformed_data_all_df.groupBy(\"turbine_id\").agg(\n",
    "    avg(\"power_output\").alias(\"mean_power_output\"),\n",
    "    stddev(\"power_output\").alias(\"stddev_power_output\")\n",
    ")\n"
   ]
  },
  {
   "cell_type": "code",
   "execution_count": 0,
   "metadata": {
    "application/vnd.databricks.v1+cell": {
     "cellMetadata": {
      "byteLimit": 2048000,
      "rowLimit": 10000
     },
     "inputWidgets": {},
     "nuid": "19bdfc68-86b0-4f37-bbd3-3dca8a542298",
     "showTitle": false,
     "tableResultSettingsMap": {},
     "title": ""
    }
   },
   "outputs": [
    {
     "output_type": "display_data",
     "data": {
      "text/html": [
       "<style scoped>\n",
       "  .table-result-container {\n",
       "    max-height: 300px;\n",
       "    overflow: auto;\n",
       "  }\n",
       "  table, th, td {\n",
       "    border: 1px solid black;\n",
       "    border-collapse: collapse;\n",
       "  }\n",
       "  th, td {\n",
       "    padding: 5px;\n",
       "  }\n",
       "  th {\n",
       "    text-align: left;\n",
       "  }\n",
       "</style><div class='table-result-container'><table class='table-result'><thead style='background-color: white'><tr><th>turbine_id</th><th>timestamp</th><th>wind_speed</th><th>wind_direction</th><th>power_output</th><th>mean_power_output</th><th>stddev_power_output</th><th>is_anomaly</th></tr></thead><tbody><tr><td>12</td><td>2022-03-31T23:00:00Z</td><td>9.5</td><td>189</td><td>3.2</td><td>3.0512096774193553</td><td>0.8610761298124978</td><td>false</td></tr><tr><td>1</td><td>2022-03-31T23:00:00Z</td><td>13.7</td><td>51</td><td>3.7</td><td>3.016397849462364</td><td>0.8572389449056392</td><td>false</td></tr><tr><td>13</td><td>2022-03-31T23:00:00Z</td><td>12.8</td><td>302</td><td>4.5</td><td>3.0313172043010725</td><td>0.8773202723151071</td><td>false</td></tr><tr><td>6</td><td>2022-03-31T23:00:00Z</td><td>9.9</td><td>37</td><td>3.0</td><td>2.9838709677419377</td><td>0.8741128566464673</td><td>false</td></tr><tr><td>3</td><td>2022-03-31T23:00:00Z</td><td>10.1</td><td>112</td><td>2.0</td><td>2.97997311827957</td><td>0.8626320481064984</td><td>false</td></tr><tr><td>5</td><td>2022-03-31T23:00:00Z</td><td>13.5</td><td>55</td><td>1.9</td><td>3.016532258064516</td><td>0.8658829219297753</td><td>false</td></tr><tr><td>15</td><td>2022-03-31T23:00:00Z</td><td>12.0</td><td>56</td><td>2.3</td><td>3.0364247311827937</td><td>0.8537802013874646</td><td>false</td></tr><tr><td>9</td><td>2022-03-31T23:00:00Z</td><td>15.0</td><td>102</td><td>3.1</td><td>3.002822580645162</td><td>0.8742649845618979</td><td>false</td></tr><tr><td>4</td><td>2022-03-31T23:00:00Z</td><td>10.1</td><td>43</td><td>2.7</td><td>2.9463709677419327</td><td>0.8870309797871537</td><td>false</td></tr><tr><td>8</td><td>2022-03-31T23:00:00Z</td><td>14.3</td><td>21</td><td>3.9</td><td>2.98481182795699</td><td>0.8917585675170866</td><td>false</td></tr><tr><td>7</td><td>2022-03-31T23:00:00Z</td><td>11.1</td><td>225</td><td>2.5</td><td>3.012634408602147</td><td>0.8763846852264792</td><td>false</td></tr><tr><td>10</td><td>2022-03-31T23:00:00Z</td><td>10.1</td><td>19</td><td>2.7</td><td>3.0060483870967762</td><td>0.8662839545922206</td><td>false</td></tr><tr><td>11</td><td>2022-03-31T23:00:00Z</td><td>13.3</td><td>232</td><td>3.5</td><td>2.959139784946235</td><td>0.8685299917200988</td><td>false</td></tr><tr><td>14</td><td>2022-03-31T23:00:00Z</td><td>14.8</td><td>286</td><td>3.2</td><td>3.017741935483872</td><td>0.8571807419066154</td><td>false</td></tr><tr><td>2</td><td>2022-03-31T23:00:00Z</td><td>10.3</td><td>244</td><td>2.7</td><td>2.9836021505376293</td><td>0.874523478193652</td><td>false</td></tr></tbody></table></div>"
      ]
     },
     "metadata": {
      "application/vnd.databricks.v1+output": {
       "addedWidgets": {},
       "aggData": [],
       "aggError": "",
       "aggOverflow": false,
       "aggSchema": [],
       "aggSeriesLimitReached": false,
       "aggType": "",
       "arguments": {},
       "columnCustomDisplayInfos": {},
       "data": [
        [
         12,
         "2022-03-31T23:00:00Z",
         9.5,
         189,
         3.2,
         3.0512096774193553,
         0.8610761298124978,
         false
        ],
        [
         1,
         "2022-03-31T23:00:00Z",
         13.7,
         51,
         3.7,
         3.016397849462364,
         0.8572389449056392,
         false
        ],
        [
         13,
         "2022-03-31T23:00:00Z",
         12.8,
         302,
         4.5,
         3.0313172043010725,
         0.8773202723151071,
         false
        ],
        [
         6,
         "2022-03-31T23:00:00Z",
         9.9,
         37,
         3.0,
         2.9838709677419377,
         0.8741128566464673,
         false
        ],
        [
         3,
         "2022-03-31T23:00:00Z",
         10.1,
         112,
         2.0,
         2.97997311827957,
         0.8626320481064984,
         false
        ],
        [
         5,
         "2022-03-31T23:00:00Z",
         13.5,
         55,
         1.9,
         3.016532258064516,
         0.8658829219297753,
         false
        ],
        [
         15,
         "2022-03-31T23:00:00Z",
         12.0,
         56,
         2.3,
         3.0364247311827937,
         0.8537802013874646,
         false
        ],
        [
         9,
         "2022-03-31T23:00:00Z",
         15.0,
         102,
         3.1,
         3.002822580645162,
         0.8742649845618979,
         false
        ],
        [
         4,
         "2022-03-31T23:00:00Z",
         10.1,
         43,
         2.7,
         2.9463709677419327,
         0.8870309797871537,
         false
        ],
        [
         8,
         "2022-03-31T23:00:00Z",
         14.3,
         21,
         3.9,
         2.98481182795699,
         0.8917585675170866,
         false
        ],
        [
         7,
         "2022-03-31T23:00:00Z",
         11.1,
         225,
         2.5,
         3.012634408602147,
         0.8763846852264792,
         false
        ],
        [
         10,
         "2022-03-31T23:00:00Z",
         10.1,
         19,
         2.7,
         3.0060483870967762,
         0.8662839545922206,
         false
        ],
        [
         11,
         "2022-03-31T23:00:00Z",
         13.3,
         232,
         3.5,
         2.959139784946235,
         0.8685299917200988,
         false
        ],
        [
         14,
         "2022-03-31T23:00:00Z",
         14.8,
         286,
         3.2,
         3.017741935483872,
         0.8571807419066154,
         false
        ],
        [
         2,
         "2022-03-31T23:00:00Z",
         10.3,
         244,
         2.7,
         2.9836021505376293,
         0.874523478193652,
         false
        ]
       ],
       "datasetInfos": [],
       "dbfsResultPath": null,
       "isJsonSchema": true,
       "metadata": {},
       "overflow": false,
       "plotOptions": {
        "customPlotOptions": {},
        "displayType": "table",
        "pivotAggregation": null,
        "pivotColumns": null,
        "xColumns": null,
        "yColumns": null
       },
       "removedWidgets": [],
       "schema": [
        {
         "metadata": "{}",
         "name": "turbine_id",
         "type": "\"integer\""
        },
        {
         "metadata": "{}",
         "name": "timestamp",
         "type": "\"timestamp\""
        },
        {
         "metadata": "{}",
         "name": "wind_speed",
         "type": "\"double\""
        },
        {
         "metadata": "{}",
         "name": "wind_direction",
         "type": "\"integer\""
        },
        {
         "metadata": "{}",
         "name": "power_output",
         "type": "\"double\""
        },
        {
         "metadata": "{}",
         "name": "mean_power_output",
         "type": "\"double\""
        },
        {
         "metadata": "{}",
         "name": "stddev_power_output",
         "type": "\"double\""
        },
        {
         "metadata": "{}",
         "name": "is_anomaly",
         "type": "\"boolean\""
        }
       ],
       "type": "table"
      }
     },
     "output_type": "display_data"
    }
   ],
   "source": [
    "\n",
    "# Join the stats with the original data\n",
    "joined_df = transformed_data_latest_df.join(stats_df, on=\"turbine_id\")\n",
    "\n",
    "# Identify anomalies\n",
    "anomalies_df = joined_df.withColumn(\n",
    "    \"is_anomaly\",\n",
    "    (col(\"power_output\") > col(\"mean_power_output\") + 2 * col(\"stddev_power_output\")) |\n",
    "    (col(\"power_output\") < col(\"mean_power_output\") - 2 * col(\"stddev_power_output\"))\n",
    ")\n",
    "\n",
    "display(anomalies_df)"
   ]
  },
  {
   "cell_type": "code",
   "execution_count": 0,
   "metadata": {
    "application/vnd.databricks.v1+cell": {
     "cellMetadata": {
      "byteLimit": 2048000,
      "rowLimit": 10000
     },
     "inputWidgets": {},
     "nuid": "e06ad786-c921-4d80-923f-f4c56458080a",
     "showTitle": true,
     "tableResultSettingsMap": {},
     "title": "Write Gold Data with Statisitics"
    }
   },
   "outputs": [
    {
     "output_type": "display_data",
     "data": {
      "text/html": [
       "<style scoped>\n",
       "  .table-result-container {\n",
       "    max-height: 300px;\n",
       "    overflow: auto;\n",
       "  }\n",
       "  table, th, td {\n",
       "    border: 1px solid black;\n",
       "    border-collapse: collapse;\n",
       "  }\n",
       "  th, td {\n",
       "    padding: 5px;\n",
       "  }\n",
       "  th {\n",
       "    text-align: left;\n",
       "  }\n",
       "</style><div class='table-result-container'><table class='table-result'><thead style='background-color: white'><tr><th>turbine_id</th><th>timestamp</th><th>wind_speed</th><th>wind_direction</th><th>power_output</th><th>mean_power_output</th><th>stddev_power_output</th><th>is_anomaly</th></tr></thead><tbody><tr><td>12</td><td>2022-03-31T23:00:00Z</td><td>9.5</td><td>189</td><td>3.2</td><td>3.0512096774193553</td><td>0.8610761298124978</td><td>false</td></tr><tr><td>1</td><td>2022-03-31T23:00:00Z</td><td>13.7</td><td>51</td><td>3.7</td><td>3.016397849462364</td><td>0.8572389449056392</td><td>false</td></tr><tr><td>13</td><td>2022-03-31T23:00:00Z</td><td>12.8</td><td>302</td><td>4.5</td><td>3.0313172043010725</td><td>0.8773202723151071</td><td>false</td></tr><tr><td>6</td><td>2022-03-31T23:00:00Z</td><td>9.9</td><td>37</td><td>3.0</td><td>2.9838709677419377</td><td>0.8741128566464673</td><td>false</td></tr><tr><td>3</td><td>2022-03-31T23:00:00Z</td><td>10.1</td><td>112</td><td>2.0</td><td>2.97997311827957</td><td>0.8626320481064984</td><td>false</td></tr><tr><td>5</td><td>2022-03-31T23:00:00Z</td><td>13.5</td><td>55</td><td>1.9</td><td>3.016532258064516</td><td>0.8658829219297753</td><td>false</td></tr><tr><td>15</td><td>2022-03-31T23:00:00Z</td><td>12.0</td><td>56</td><td>2.3</td><td>3.0364247311827937</td><td>0.8537802013874646</td><td>false</td></tr><tr><td>9</td><td>2022-03-31T23:00:00Z</td><td>15.0</td><td>102</td><td>3.1</td><td>3.002822580645162</td><td>0.8742649845618979</td><td>false</td></tr><tr><td>4</td><td>2022-03-31T23:00:00Z</td><td>10.1</td><td>43</td><td>2.7</td><td>2.9463709677419327</td><td>0.8870309797871537</td><td>false</td></tr><tr><td>8</td><td>2022-03-31T23:00:00Z</td><td>14.3</td><td>21</td><td>3.9</td><td>2.98481182795699</td><td>0.8917585675170866</td><td>false</td></tr><tr><td>7</td><td>2022-03-31T23:00:00Z</td><td>11.1</td><td>225</td><td>2.5</td><td>3.012634408602147</td><td>0.8763846852264792</td><td>false</td></tr><tr><td>10</td><td>2022-03-31T23:00:00Z</td><td>10.1</td><td>19</td><td>2.7</td><td>3.0060483870967762</td><td>0.8662839545922206</td><td>false</td></tr><tr><td>11</td><td>2022-03-31T23:00:00Z</td><td>13.3</td><td>232</td><td>3.5</td><td>2.959139784946235</td><td>0.8685299917200988</td><td>false</td></tr><tr><td>14</td><td>2022-03-31T23:00:00Z</td><td>14.8</td><td>286</td><td>3.2</td><td>3.017741935483872</td><td>0.8571807419066154</td><td>false</td></tr><tr><td>2</td><td>2022-03-31T23:00:00Z</td><td>10.3</td><td>244</td><td>2.7</td><td>2.9836021505376293</td><td>0.874523478193652</td><td>false</td></tr></tbody></table></div>"
      ]
     },
     "metadata": {
      "application/vnd.databricks.v1+output": {
       "addedWidgets": {},
       "aggData": [],
       "aggError": "",
       "aggOverflow": false,
       "aggSchema": [],
       "aggSeriesLimitReached": false,
       "aggType": "",
       "arguments": {},
       "columnCustomDisplayInfos": {},
       "data": [
        [
         12,
         "2022-03-31T23:00:00Z",
         9.5,
         189,
         3.2,
         3.0512096774193553,
         0.8610761298124978,
         false
        ],
        [
         1,
         "2022-03-31T23:00:00Z",
         13.7,
         51,
         3.7,
         3.016397849462364,
         0.8572389449056392,
         false
        ],
        [
         13,
         "2022-03-31T23:00:00Z",
         12.8,
         302,
         4.5,
         3.0313172043010725,
         0.8773202723151071,
         false
        ],
        [
         6,
         "2022-03-31T23:00:00Z",
         9.9,
         37,
         3.0,
         2.9838709677419377,
         0.8741128566464673,
         false
        ],
        [
         3,
         "2022-03-31T23:00:00Z",
         10.1,
         112,
         2.0,
         2.97997311827957,
         0.8626320481064984,
         false
        ],
        [
         5,
         "2022-03-31T23:00:00Z",
         13.5,
         55,
         1.9,
         3.016532258064516,
         0.8658829219297753,
         false
        ],
        [
         15,
         "2022-03-31T23:00:00Z",
         12.0,
         56,
         2.3,
         3.0364247311827937,
         0.8537802013874646,
         false
        ],
        [
         9,
         "2022-03-31T23:00:00Z",
         15.0,
         102,
         3.1,
         3.002822580645162,
         0.8742649845618979,
         false
        ],
        [
         4,
         "2022-03-31T23:00:00Z",
         10.1,
         43,
         2.7,
         2.9463709677419327,
         0.8870309797871537,
         false
        ],
        [
         8,
         "2022-03-31T23:00:00Z",
         14.3,
         21,
         3.9,
         2.98481182795699,
         0.8917585675170866,
         false
        ],
        [
         7,
         "2022-03-31T23:00:00Z",
         11.1,
         225,
         2.5,
         3.012634408602147,
         0.8763846852264792,
         false
        ],
        [
         10,
         "2022-03-31T23:00:00Z",
         10.1,
         19,
         2.7,
         3.0060483870967762,
         0.8662839545922206,
         false
        ],
        [
         11,
         "2022-03-31T23:00:00Z",
         13.3,
         232,
         3.5,
         2.959139784946235,
         0.8685299917200988,
         false
        ],
        [
         14,
         "2022-03-31T23:00:00Z",
         14.8,
         286,
         3.2,
         3.017741935483872,
         0.8571807419066154,
         false
        ],
        [
         2,
         "2022-03-31T23:00:00Z",
         10.3,
         244,
         2.7,
         2.9836021505376293,
         0.874523478193652,
         false
        ]
       ],
       "datasetInfos": [],
       "dbfsResultPath": null,
       "isJsonSchema": true,
       "metadata": {},
       "overflow": false,
       "plotOptions": {
        "customPlotOptions": {},
        "displayType": "table",
        "pivotAggregation": null,
        "pivotColumns": null,
        "xColumns": null,
        "yColumns": null
       },
       "removedWidgets": [],
       "schema": [
        {
         "metadata": "{}",
         "name": "turbine_id",
         "type": "\"integer\""
        },
        {
         "metadata": "{}",
         "name": "timestamp",
         "type": "\"timestamp\""
        },
        {
         "metadata": "{}",
         "name": "wind_speed",
         "type": "\"double\""
        },
        {
         "metadata": "{}",
         "name": "wind_direction",
         "type": "\"integer\""
        },
        {
         "metadata": "{}",
         "name": "power_output",
         "type": "\"double\""
        },
        {
         "metadata": "{}",
         "name": "mean_power_output",
         "type": "\"double\""
        },
        {
         "metadata": "{}",
         "name": "stddev_power_output",
         "type": "\"double\""
        },
        {
         "metadata": "{}",
         "name": "is_anomaly",
         "type": "\"boolean\""
        }
       ],
       "type": "table"
      }
     },
     "output_type": "display_data"
    }
   ],
   "source": [
    "window_spec = Window.partitionBy(\"turbine_id\").orderBy(desc(\"timestamp\"))\n",
    "result_df = anomalies_df\n",
    "\n",
    "display(result_df)"
   ]
  },
  {
   "cell_type": "code",
   "execution_count": 0,
   "metadata": {
    "application/vnd.databricks.v1+cell": {
     "cellMetadata": {
      "byteLimit": 2048000,
      "rowLimit": 10000
     },
     "inputWidgets": {},
     "nuid": "3bb52074-98f3-446d-a746-1d675ac8cfdb",
     "showTitle": false,
     "tableResultSettingsMap": {},
     "title": ""
    }
   },
   "outputs": [
    {
     "output_type": "execute_result",
     "data": {
      "text/plain": [
       "DataFrame[num_affected_rows: bigint, num_updated_rows: bigint, num_deleted_rows: bigint, num_inserted_rows: bigint]"
      ]
     },
     "execution_count": 38,
     "metadata": {},
     "output_type": "execute_result"
    }
   ],
   "source": [
    "result_df.createOrReplaceTempView(\"temp_anomalies\")\n",
    "\n",
    "spark.sql(\"\"\"\n",
    "CREATE TABLE IF NOT EXISTS wind_farm.default.gold_data (\n",
    "  turbine_id STRING,\n",
    "  timestamp TIMESTAMP,\n",
    "  power_output DOUBLE,\n",
    "  mean_power_output DOUBLE,\n",
    "  stddev_power_output DOUBLE,\n",
    "  is_anomaly BOOLEAN\n",
    ")\n",
    "\"\"\")\n",
    "\n",
    "spark.sql(\"\"\"\n",
    "MERGE INTO wind_farm.default.gold_data AS target\n",
    "USING temp_anomalies AS source\n",
    "ON target.turbine_id = source.turbine_id AND target.timestamp = source.timestamp\n",
    "WHEN MATCHED THEN\n",
    "  UPDATE SET *\n",
    "WHEN NOT MATCHED THEN\n",
    "  INSERT *\n",
    "\"\"\")"
   ]
  },
  {
   "cell_type": "code",
   "execution_count": 0,
   "metadata": {
    "application/vnd.databricks.v1+cell": {
     "cellMetadata": {
      "byteLimit": 2048000,
      "implicitDf": true,
      "rowLimit": 10000
     },
     "inputWidgets": {},
     "nuid": "a6e24ee4-e9cc-4d19-a0ca-68834075d843",
     "showTitle": false,
     "tableResultSettingsMap": {},
     "title": ""
    }
   },
   "outputs": [
    {
     "output_type": "display_data",
     "data": {
      "text/html": [
       "<style scoped>\n",
       "  .table-result-container {\n",
       "    max-height: 300px;\n",
       "    overflow: auto;\n",
       "  }\n",
       "  table, th, td {\n",
       "    border: 1px solid black;\n",
       "    border-collapse: collapse;\n",
       "  }\n",
       "  th, td {\n",
       "    padding: 5px;\n",
       "  }\n",
       "  th {\n",
       "    text-align: left;\n",
       "  }\n",
       "</style><div class='table-result-container'><table class='table-result'><thead style='background-color: white'><tr><th>turbine_id</th><th>timestamp</th><th>power_output</th><th>mean_power_output</th><th>stddev_power_output</th><th>is_anomaly</th></tr></thead><tbody><tr><td>12</td><td>2022-03-31T23:00:00Z</td><td>3.2</td><td>3.0512096774193553</td><td>0.8610761298124978</td><td>false</td></tr><tr><td>1</td><td>2022-03-31T23:00:00Z</td><td>3.7</td><td>3.016397849462364</td><td>0.8572389449056392</td><td>false</td></tr><tr><td>13</td><td>2022-03-31T23:00:00Z</td><td>4.5</td><td>3.0313172043010725</td><td>0.8773202723151071</td><td>false</td></tr><tr><td>6</td><td>2022-03-31T23:00:00Z</td><td>3.0</td><td>2.9838709677419377</td><td>0.8741128566464673</td><td>false</td></tr><tr><td>3</td><td>2022-03-31T23:00:00Z</td><td>2.0</td><td>2.97997311827957</td><td>0.8626320481064984</td><td>false</td></tr><tr><td>5</td><td>2022-03-31T23:00:00Z</td><td>1.9</td><td>3.016532258064516</td><td>0.8658829219297753</td><td>false</td></tr><tr><td>15</td><td>2022-03-31T23:00:00Z</td><td>2.3</td><td>3.0364247311827937</td><td>0.8537802013874646</td><td>false</td></tr><tr><td>9</td><td>2022-03-31T23:00:00Z</td><td>3.1</td><td>3.002822580645162</td><td>0.8742649845618979</td><td>false</td></tr><tr><td>4</td><td>2022-03-31T23:00:00Z</td><td>2.7</td><td>2.9463709677419327</td><td>0.8870309797871537</td><td>false</td></tr><tr><td>8</td><td>2022-03-31T23:00:00Z</td><td>3.9</td><td>2.98481182795699</td><td>0.8917585675170866</td><td>false</td></tr><tr><td>7</td><td>2022-03-31T23:00:00Z</td><td>2.5</td><td>3.012634408602147</td><td>0.8763846852264792</td><td>false</td></tr><tr><td>10</td><td>2022-03-31T23:00:00Z</td><td>2.7</td><td>3.0060483870967762</td><td>0.8662839545922206</td><td>false</td></tr><tr><td>11</td><td>2022-03-31T23:00:00Z</td><td>3.5</td><td>2.959139784946235</td><td>0.8685299917200988</td><td>false</td></tr><tr><td>14</td><td>2022-03-31T23:00:00Z</td><td>3.2</td><td>3.017741935483872</td><td>0.8571807419066154</td><td>false</td></tr><tr><td>2</td><td>2022-03-31T23:00:00Z</td><td>2.7</td><td>2.9836021505376293</td><td>0.874523478193652</td><td>false</td></tr></tbody></table></div>"
      ]
     },
     "metadata": {
      "application/vnd.databricks.v1+output": {
       "addedWidgets": {},
       "aggData": [],
       "aggError": "",
       "aggOverflow": false,
       "aggSchema": [],
       "aggSeriesLimitReached": false,
       "aggType": "",
       "arguments": {},
       "columnCustomDisplayInfos": {},
       "data": [
        [
         "12",
         "2022-03-31T23:00:00Z",
         3.2,
         3.0512096774193553,
         0.8610761298124978,
         false
        ],
        [
         "1",
         "2022-03-31T23:00:00Z",
         3.7,
         3.016397849462364,
         0.8572389449056392,
         false
        ],
        [
         "13",
         "2022-03-31T23:00:00Z",
         4.5,
         3.0313172043010725,
         0.8773202723151071,
         false
        ],
        [
         "6",
         "2022-03-31T23:00:00Z",
         3.0,
         2.9838709677419377,
         0.8741128566464673,
         false
        ],
        [
         "3",
         "2022-03-31T23:00:00Z",
         2.0,
         2.97997311827957,
         0.8626320481064984,
         false
        ],
        [
         "5",
         "2022-03-31T23:00:00Z",
         1.9,
         3.016532258064516,
         0.8658829219297753,
         false
        ],
        [
         "15",
         "2022-03-31T23:00:00Z",
         2.3,
         3.0364247311827937,
         0.8537802013874646,
         false
        ],
        [
         "9",
         "2022-03-31T23:00:00Z",
         3.1,
         3.002822580645162,
         0.8742649845618979,
         false
        ],
        [
         "4",
         "2022-03-31T23:00:00Z",
         2.7,
         2.9463709677419327,
         0.8870309797871537,
         false
        ],
        [
         "8",
         "2022-03-31T23:00:00Z",
         3.9,
         2.98481182795699,
         0.8917585675170866,
         false
        ],
        [
         "7",
         "2022-03-31T23:00:00Z",
         2.5,
         3.012634408602147,
         0.8763846852264792,
         false
        ],
        [
         "10",
         "2022-03-31T23:00:00Z",
         2.7,
         3.0060483870967762,
         0.8662839545922206,
         false
        ],
        [
         "11",
         "2022-03-31T23:00:00Z",
         3.5,
         2.959139784946235,
         0.8685299917200988,
         false
        ],
        [
         "14",
         "2022-03-31T23:00:00Z",
         3.2,
         3.017741935483872,
         0.8571807419066154,
         false
        ],
        [
         "2",
         "2022-03-31T23:00:00Z",
         2.7,
         2.9836021505376293,
         0.874523478193652,
         false
        ]
       ],
       "datasetInfos": [],
       "dbfsResultPath": null,
       "isJsonSchema": true,
       "metadata": {
        "createTempViewForImplicitDf": true,
        "dataframeName": "_sqldf",
        "executionCount": 39
       },
       "overflow": false,
       "plotOptions": {
        "customPlotOptions": {},
        "displayType": "table",
        "pivotAggregation": null,
        "pivotColumns": null,
        "xColumns": null,
        "yColumns": null
       },
       "removedWidgets": [],
       "schema": [
        {
         "metadata": "{}",
         "name": "turbine_id",
         "type": "\"string\""
        },
        {
         "metadata": "{}",
         "name": "timestamp",
         "type": "\"timestamp\""
        },
        {
         "metadata": "{}",
         "name": "power_output",
         "type": "\"double\""
        },
        {
         "metadata": "{}",
         "name": "mean_power_output",
         "type": "\"double\""
        },
        {
         "metadata": "{}",
         "name": "stddev_power_output",
         "type": "\"double\""
        },
        {
         "metadata": "{}",
         "name": "is_anomaly",
         "type": "\"boolean\""
        }
       ],
       "type": "table"
      }
     },
     "output_type": "display_data"
    }
   ],
   "source": [
    "%sql\n",
    "select * from wind_farm.default.gold_data"
   ]
  }
 ],
 "metadata": {
  "application/vnd.databricks.v1+notebook": {
   "dashboards": [],
   "environmentMetadata": {
    "base_environment": "",
    "client": "1"
   },
   "language": "python",
   "notebookMetadata": {
    "mostRecentlyExecutedCommandWithImplicitDF": {
     "commandId": 3404210557636505,
     "dataframes": [
      "_sqldf"
     ]
    },
    "pythonIndentUnit": 4
   },
   "notebookName": "analyse_data_and_write_to_gold",
   "widgets": {
    "timestamp_max": {
     "currentValue": "2024-11-24",
     "nuid": "34130080-c015-4910-9d04-b47b540a581a",
     "typedWidgetInfo": {
      "autoCreated": false,
      "defaultValue": "2024-11-24",
      "label": "Timestamp Max",
      "name": "timestamp_max",
      "options": {
       "widgetDisplayType": "Text",
       "validationRegex": null
      },
      "parameterDataType": "String"
     },
     "widgetInfo": {
      "widgetType": "text",
      "defaultValue": "2024-11-24",
      "label": "Timestamp Max",
      "name": "timestamp_max",
      "options": {
       "widgetType": "text",
       "autoCreated": null,
       "validationRegex": null
      }
     }
    },
    "timestamp_min": {
     "currentValue": "2020-11-22",
     "nuid": "4f7107f1-8de3-4aec-af12-e52c2bbcaeaf",
     "typedWidgetInfo": {
      "autoCreated": false,
      "defaultValue": "2024-11-22",
      "label": "Timestamp Min",
      "name": "timestamp_min",
      "options": {
       "widgetDisplayType": "Text",
       "validationRegex": null
      },
      "parameterDataType": "String"
     },
     "widgetInfo": {
      "widgetType": "text",
      "defaultValue": "2024-11-22",
      "label": "Timestamp Min",
      "name": "timestamp_min",
      "options": {
       "widgetType": "text",
       "autoCreated": null,
       "validationRegex": null
      }
     }
    }
   }
  },
  "language_info": {
   "name": "python"
  }
 },
 "nbformat": 4,
 "nbformat_minor": 0
}